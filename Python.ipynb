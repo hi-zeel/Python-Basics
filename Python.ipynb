{
 "cells": [
  {
   "cell_type": "code",
   "execution_count": 16,
   "id": "d1ec0ebe-8257-451e-9a96-a3541bc7991d",
   "metadata": {},
   "outputs": [
    {
     "name": "stdout",
     "output_type": "stream",
     "text": [
      "20 19.95 Zeel True\n"
     ]
    }
   ],
   "source": [
    "# Variable\n",
    "age = 20 \n",
    "price = 19.95\n",
    "first_name = \"Zeel\"\n",
    "is_online = True\n",
    "print(age, price, first_name, is_online)"
   ]
  },
  {
   "cell_type": "code",
   "execution_count": 24,
   "id": "0eae2317-7848-4ec5-bb9f-2aeac005816a",
   "metadata": {},
   "outputs": [
    {
     "name": "stdin",
     "output_type": "stream",
     "text": [
      "What is your name?  Zeel\n"
     ]
    },
    {
     "name": "stdout",
     "output_type": "stream",
     "text": [
      "Hello Zeel\n"
     ]
    }
   ],
   "source": [
    "# Receiving Input\n",
    "name = input(\"What is your name? \")\n",
    "print(\"Hello \" + name) "
   ]
  },
  {
   "cell_type": "code",
   "execution_count": 34,
   "id": "f2ad5a48-ec46-4a95-97c5-5cfa0a24fcb1",
   "metadata": {},
   "outputs": [
    {
     "name": "stdin",
     "output_type": "stream",
     "text": [
      "Enter your birth year:  1999\n"
     ]
    },
    {
     "name": "stdout",
     "output_type": "stream",
     "text": [
      "25\n"
     ]
    }
   ],
   "source": [
    "# Type Conversion\n",
    "birth_year = input(\"Enter your birth year: \")\n",
    "age = 2024- int(birth_year) # Function\n",
    "print(age)\n",
    "\n",
    "# int()\n",
    "# float()\n",
    "# bool()\n",
    "# str()\n"
   ]
  },
  {
   "cell_type": "code",
   "execution_count": 50,
   "id": "899c1420-78f5-4b8d-bf58-8edeb75f3694",
   "metadata": {},
   "outputs": [
    {
     "name": "stdin",
     "output_type": "stream",
     "text": [
      "First:  25.30\n",
      "Second:  25.30\n"
     ]
    },
    {
     "name": "stdout",
     "output_type": "stream",
     "text": [
      "Sum is: 50.6\n"
     ]
    }
   ],
   "source": [
    "# Exercise\n",
    "First = input(\"First: \")\n",
    "Second = input(\"Second: \")\n",
    "Sum = float(First) + float(Second)\n",
    "print(\"Sum is: \" + str(Sum))"
   ]
  },
  {
   "cell_type": "code",
   "execution_count": 106,
   "id": "f56fe86d-0f94-411c-b041-4e14c2b4a5ff",
   "metadata": {},
   "outputs": [
    {
     "name": "stdout",
     "output_type": "stream",
     "text": [
      "7\n",
      "Python 4 Beginners\n",
      "11\n",
      "True\n"
     ]
    }
   ],
   "source": [
    "# String\n",
    "course = \"Python for Beginners\"\n",
    "#         0123456789  \n",
    "print(course.find(\"f\"))\n",
    "print(course.replace(\"for\", \"4\"))\n",
    "print(course.find(\"B\"))\n",
    "print(\"for\" in course)"
   ]
  },
  {
   "cell_type": "code",
   "execution_count": 54,
   "id": "709e1a45-d90f-4e1b-8646-624dea8b5ab6",
   "metadata": {},
   "outputs": [
    {
     "name": "stdout",
     "output_type": "stream",
     "text": [
      "7\n"
     ]
    }
   ],
   "source": [
    "# Arithmetic Operators\n",
    "x = 10\n",
    "x -= 3\n",
    "print(x)"
   ]
  },
  {
   "cell_type": "code",
   "execution_count": 56,
   "id": "1c1c0184-d540-4461-9a29-81b0460df2a8",
   "metadata": {},
   "outputs": [
    {
     "name": "stdout",
     "output_type": "stream",
     "text": [
      "16\n",
      "26\n"
     ]
    }
   ],
   "source": [
    "# Operator Precedence\n",
    "x1 = 10 + 3 * 2\n",
    "x2 = (10 + 3) * 2\n",
    "print(x1)\n",
    "print(x2)"
   ]
  },
  {
   "cell_type": "code",
   "execution_count": 58,
   "id": "2fbf960a-0015-4500-856f-24d2ae5fe439",
   "metadata": {},
   "outputs": [],
   "source": [
    "# Comparison Operators\n",
    "#> >= < <= == !="
   ]
  },
  {
   "cell_type": "code",
   "execution_count": 60,
   "id": "2f95534c-bed9-4ed0-bf6f-c76dcdbde74d",
   "metadata": {},
   "outputs": [
    {
     "name": "stdout",
     "output_type": "stream",
     "text": [
      "False\n",
      "True\n",
      "False\n"
     ]
    }
   ],
   "source": [
    "# Logical Operators\n",
    "price = 25\n",
    "print(price > 10 and price < 25) #(Both)\n",
    "print(price > 10 or price < 25)  #(Atleast)\n",
    "print(not price > 10)            #(Inverse)"
   ]
  },
  {
   "cell_type": "code",
   "execution_count": 62,
   "id": "5deedd04-a46b-4b19-89e0-e811f59f4a36",
   "metadata": {},
   "outputs": [
    {
     "name": "stdout",
     "output_type": "stream",
     "text": [
      "it's cold\n",
      "Done\n"
     ]
    }
   ],
   "source": [
    "# If Statements\n",
    "temperature = 5\n",
    "\n",
    "if temperature > 30:\n",
    "    print(\"It's a hot day\")\n",
    "    print(\"Drink plenty of water\")\n",
    "elif temperature > 20: # (20, 30]\n",
    "    print(\"It's a nice day\")\n",
    "elif temperature > 10: # (10, 20]\n",
    "    print(\"It's a bit cold\")\n",
    "else:\n",
    "    print(\"it's cold\")\n",
    "\n",
    "print(\"Done\")"
   ]
  },
  {
   "cell_type": "code",
   "execution_count": 4,
   "id": "bb22d7a7-c8e1-49e4-86cf-4bdf1e28fd2d",
   "metadata": {},
   "outputs": [
    {
     "name": "stdin",
     "output_type": "stream",
     "text": [
      "Weight:  170\n",
      "(K)g or (L)bs:  l\n"
     ]
    },
    {
     "name": "stdout",
     "output_type": "stream",
     "text": [
      "Weight in kgs: 76.5\n"
     ]
    }
   ],
   "source": [
    "# Excercise\n",
    "weight = float(input(\"Weight: \"))\n",
    "unit = input(\"(K)g or (L)bs: \")\n",
    "if unit.upper() == \"k\":\n",
    "    converted = weight / 0.45\n",
    "    print(\"Weight in Lbs: \" + str(converted))\n",
    "else:     \n",
    "    converted = weight * 0.45\n",
    "    print(\"Weight in kgs: \" + str(converted)) \n"
   ]
  },
  {
   "cell_type": "code",
   "execution_count": 12,
   "id": "e9fc9cec-870f-4397-bd34-2fa72b60f026",
   "metadata": {},
   "outputs": [
    {
     "name": "stdout",
     "output_type": "stream",
     "text": [
      "*\n",
      "**\n",
      "***\n",
      "****\n",
      "*****\n",
      "******\n",
      "*******\n",
      "********\n",
      "*********\n",
      "**********\n"
     ]
    }
   ],
   "source": [
    "# While Loops\n",
    "i = 1\n",
    "while i <= 10:\n",
    "    print(i * \"*\")\n",
    "    i = i + 1"
   ]
  },
  {
   "cell_type": "code",
   "execution_count": 30,
   "id": "96105f7b-deb8-4a48-8685-1f22f02d1ef2",
   "metadata": {},
   "outputs": [
    {
     "name": "stdout",
     "output_type": "stream",
     "text": [
      "Jon\n",
      "Sam\n",
      "['Jon', 'Bob', 'Mosh', 'Sam']\n",
      "['Jon', 'Bob', 'Mosh', 'Sam', 'Mary']\n"
     ]
    }
   ],
   "source": [
    "# Lists\n",
    "names = [\"John\", \"Bob\", \"Mosh\", \"Sam\", \"Mary\"]\n",
    "names[0] = \"Jon\"\n",
    "print(names[0])\n",
    "print(names[-2])\n",
    "print(names[0:4]\n",
    "print(names)"
   ]
  },
  {
   "cell_type": "code",
   "execution_count": 49,
   "id": "6ec8c357-e6a7-409c-b58b-3bb5e6abff4a",
   "metadata": {
    "scrolled": true
   },
   "outputs": [
    {
     "name": "stdout",
     "output_type": "stream",
     "text": [
      "[-1, 1, 2, 4, 5, 6]\n",
      "True\n",
      "False\n",
      "6\n"
     ]
    }
   ],
   "source": [
    "# List Methods\n",
    "numbers = [1, 2, 3, 4, 5]\n",
    "numbers.append(6)\n",
    "numbers.insert(0, -1)\n",
    "numbers.remove(3)\n",
    "print(numbers) \n",
    "print(1 in numbers)\n",
    "print(3 in numbers)\n",
    "print(len(numbers))"
   ]
  },
  {
   "cell_type": "code",
   "execution_count": 67,
   "id": "39eac49a-a2e0-4744-b281-34fe403dbaaf",
   "metadata": {},
   "outputs": [
    {
     "name": "stdout",
     "output_type": "stream",
     "text": [
      "1\n",
      "2\n",
      "3\n",
      "4\n",
      "5\n",
      "1\n",
      "2\n",
      "3\n",
      "4\n",
      "5\n",
      "[1, 2, 3, 4, 5]\n"
     ]
    }
   ],
   "source": [
    "# For Loops\n",
    "numbers = [1, 2, 3, 4, 5]\n",
    "for item in numbers:\n",
    "    print(item)\n",
    "\n",
    "i = 0\n",
    "while i < len(numbers):\n",
    "    print(numbers[i])\n",
    "    i = i + 1\n",
    "    \n",
    "print(numbers)"
   ]
  },
  {
   "cell_type": "code",
   "execution_count": 105,
   "id": "6327bd80-e887-4f3a-a7b1-e2d53385fd71",
   "metadata": {},
   "outputs": [
    {
     "name": "stdout",
     "output_type": "stream",
     "text": [
      "1\n",
      "3\n",
      "5\n",
      "7\n",
      "9\n",
      "0\n",
      "1\n",
      "2\n",
      "3\n",
      "4\n",
      "range(1, 10, 2)\n"
     ]
    }
   ],
   "source": [
    "# Range Function\n",
    "numbers = range(1, 10, 2) # range(Start, End, Step)\n",
    "for number in numbers:\n",
    "    print(number)\n",
    "for number in range(5):\n",
    "    print(number)\n",
    "print(numbers)"
   ]
  },
  {
   "cell_type": "code",
   "execution_count": 121,
   "id": "82a63594-ae47-4f0b-b8b6-fbe11e11b1c8",
   "metadata": {},
   "outputs": [
    {
     "data": {
      "text/plain": [
       "3"
      ]
     },
     "execution_count": 121,
     "metadata": {},
     "output_type": "execute_result"
    }
   ],
   "source": [
    "# Tuples\n",
    "numbers = (1, 2, 2, 2, 3)\n",
    "numbers.count(2)\n"
   ]
  }
 ],
 "metadata": {
  "kernelspec": {
   "display_name": "Python 3 (ipykernel)",
   "language": "python",
   "name": "python3"
  },
  "language_info": {
   "codemirror_mode": {
    "name": "ipython",
    "version": 3
   },
   "file_extension": ".py",
   "mimetype": "text/x-python",
   "name": "python",
   "nbconvert_exporter": "python",
   "pygments_lexer": "ipython3",
   "version": "3.12.4"
  }
 },
 "nbformat": 4,
 "nbformat_minor": 5
}
